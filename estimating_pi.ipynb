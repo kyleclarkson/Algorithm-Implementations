{
 "cells": [
  {
   "cell_type": "markdown",
   "metadata": {},
   "source": [
    "# Estimating Pi Using Random Number Generation"
   ]
  },
  {
   "cell_type": "markdown",
   "metadata": {},
   "source": [
    "The number $\\pi \\approx 3.1415 \\ldots$ is most likely known for it relationship to a circle. For a circle with radius $r$, its perimeter and area is given by the formulas $2\\pi r$ and $\\pi r^2$ respectively. However it is a number which appears not only in geometry, but in all areas of maths from complex numbers to the summation of infinite series!\n",
    "\n",
    "One of the most well-known facts about the number $\\pi$ is that it is a transcedental number - that is it cannot be written as a quotient of integers or expressed as the solution to a polynomial equation!\n",
    "\n",
    "There are many ways to approximate the number $pi$ however; see <a href=\"https://en.wikipedia.org/wiki/Approximations_of_%CF%80\">here</a>. \n",
    "In this notebook we consider one method to approximate $\\pi$ by sampling random numbers uniformaly."
   ]
  },
  {
   "cell_type": "markdown",
   "metadata": {},
   "source": [
    "Consider a circle with radius $r$ in which we inscribe a tight square to its boundary. As the square is tight to the circle's boundary, each of its four side lengths is twice the radius. \n",
    "Therefore the area of the circle is\n",
    "\\begin{align*}\n",
    "    area_{circle} &= \\pi r^2\n",
    "\\end{align*}\n",
    "and the area of the square is\n",
    "\\begin{align*}\n",
    "    area_{square} &= 4r^2.\n",
    "\\end{align*}\n",
    "\n",
    "Therefore the ratio of the circle's area to the square's area is $\\pi / 4$. By approximating this ratio, we can determine an approximation of $\\pi$! To do so we will center the circle (and thus the square) at the origin and set the radius to $1$. \n",
    "We will uniformly generate $N$ two-dimensional points with coordinates in $[-1,1]$. If the $L_2$ distance from the origin to the point is less than one, we count the point as being in both the circle and the square. Thus after generating all points, we consider the ratio of those in the circle to $N$ as the approximation. We then multiply this value by $4$ to approximate $\\pi$.\n"
   ]
  },
  {
   "cell_type": "code",
   "execution_count": 34,
   "metadata": {},
   "outputs": [
    {
     "name": "stdout",
     "output_type": "stream",
     "text": [
      "3.1414908\n"
     ]
    }
   ],
   "source": [
    "%matplotlib inline\n",
    "import numpy.random as rd\n",
    "\n",
    "# Number of points to generate\n",
    "N = 10_000_000\n",
    "\n",
    "points_in = []\n",
    "points_out = []\n",
    "\n",
    "for i in range(N):\n",
    "    # Generate random point\n",
    "    x, y =  rd.uniform(-1, 1), rd.uniform(-1, 1)\n",
    "    \n",
    "    # check if point lies within circle\n",
    "    if x**2 + y**2 <= 1:\n",
    "        points_in.append((x,y))\n",
    "    else:\n",
    "        points_out.append((x,y))\n",
    "\n",
    "print(4*len(points_in) / N)"
   ]
  },
  {
   "cell_type": "markdown",
   "metadata": {},
   "source": [
    "Below are approximations for different values of $N$:\n",
    "* $N=10,000$: 3.1352\n",
    "* $N=100,000$: 3.13992\n",
    "* $N=1,000,000$: 3.138848\n",
    "* $N=10,000,000$: 3.1414908\n",
    "\n",
    "with the first ten digits of $\\pi \\approx 3.1415926535$."
   ]
  },
  {
   "cell_type": "code",
   "execution_count": 35,
   "metadata": {},
   "outputs": [
    {
     "data": {
      "image/png": "[encoded data removed]",
      "text/plain": [
       "<Figure size 432x288 with 1 Axes>"
      ]
     },
     "metadata": {
      "needs_background": "light"
     },
     "output_type": "display_data"
    }
   ],
   "source": [
    "# Plot the points to visualize area of circle\n",
    "\n",
    "import matplotlib.pyplot as plt\n",
    "# unzip lists\n",
    "plt.scatter(*zip(*points_out), c='b')\n",
    "plt.scatter(*zip(*points_in), c='y')\n",
    "# Resize figure.\n",
    "plt.rcParams['figure.figsize'] = [10, 10]"
   ]
  },
  {
   "cell_type": "markdown",
   "metadata": {},
   "source": [
    "For $N=10,000,000$ it requires almost a minute to both generate and plot the points. If you are in a bind you may want to use the fraction $355/113 = 3.1415929$ as a quicker approximation! "
   ]
  },
  {
   "cell_type": "code",
   "execution_count": null,
   "metadata": {},
   "outputs": [],
   "source": []
  }
 ],
 "metadata": {
  "kernelspec": {
   "display_name": "Python 3",
   "language": "python",
   "name": "python3"
  },
  "language_info": {
   "codemirror_mode": {
    "name": "ipython",
    "version": 3
   },
   "file_extension": ".py",
   "mimetype": "text/x-python",
   "name": "python",
   "nbconvert_exporter": "python",
   "pygments_lexer": "ipython3",
   "version": "3.7.7"
  }
 },
 "nbformat": 4,
 "nbformat_minor": 2
}
