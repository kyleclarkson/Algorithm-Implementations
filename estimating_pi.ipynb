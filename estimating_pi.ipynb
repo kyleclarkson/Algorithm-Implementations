{
 "cells": [
  {
   "cell_type": "markdown",
   "metadata": {},
   "source": [
    "# Estimating Pi Using Random Number Generation"
   ]
  },
  {
   "cell_type": "markdown",
   "metadata": {},
   "source": [
    "The number $\\pi \\approx 3.1415 \\ldots$ is most likely known for it relationship to a circle. For a circle with radius $r$, its perimeter and area is given by the formulas $2\\pi r$ and $\\pi r^2$ respectively. However it is a number which appears not only in geometry, but in all areas of maths from complex numbers to the summation of infinite series!\n",
    "\n",
    "One of the most well-known facts about the number $\\pi$ is that it is a transcedental number - that is it cannot be written as a quotient of integers or expressed as the solution to a polynomial equation!\n",
    "\n",
    "There are many ways to approximate the number $pi$ however; see <a href=\"https://en.wikipedia.org/wiki/Approximations_of_%CF%80\">here</a>. \n",
    "In this notebook we consider one method to approximate $\\pi$ by sampling random numbers uniformaly."
   ]
  },
  {
   "cell_type": "markdown",
   "metadata": {},
   "source": [
    "Consider a circle with radius $r$ in which we inscribe a tight square to its boundary. As the square is tight to the circle's boundary, each of its four side lengths is twice the radius. \n",
    "Therefore the area of the circle is\n",
    "\\begin{align*}\n",
    "    area_{circle} &= \\pi r^2\n",
    "\\end{align*}\n",
    "and the area of the square is\n",
    "\\begin{align*}\n",
    "    area_{square} &= 4r^2.\n",
    "\\end{align*}\n",
    "\n",
    "Therefore the ratio of the circle's area to the square's area is $\\pi / 4$. By approximating this ratio, we can determine an approximation of $\\pi$! To do so we will center the circle (and thus the square) at the origin and set the radius to $1$. Additionally we will only compute the ratio to a quarter of the circle's area and a quarter of the sqaure's area.\n",
    "\n",
    "\n",
    "We will uniformly generate $N$ two-dimensional points with coordinates in $[0,1]$. If the $L_2$ distance from the origin to the point is less than one, we count the point as being in both the circle and the square. Thus after generating all points, we consider the ratio of those in the circle to $N$ as the approximation. We then multiply this value by $4$ to approximate $\\pi$.\n"
   ]
  },
  {
   "cell_type": "code",
   "execution_count": 9,
   "metadata": {},
   "outputs": [
    {
     "name": "stdout",
     "output_type": "stream",
     "text": [
      "3.1552\n"
     ]
    }
   ],
   "source": [
    "import numpy.random as rd\n",
    "\n",
    "# Number of points to generate\n",
    "N = 10_000\n",
    "\n",
    "num_in = 0\n",
    "\n",
    "for i in range(N):\n",
    "    # Generate random point\n",
    "    x, y =  rd.uniform(0, 1), rd.uniform(0, 1)\n",
    "    \n",
    "    # check if point lies within quarter circle\n",
    "    if x**2 + y**2 <= 1:\n",
    "        num_in += 1\n",
    "\n",
    "print(4*num_in / N)"
   ]
  },
  {
   "cell_type": "markdown",
   "metadata": {},
   "source": [
    "Below are approximations for different values of $N$:\n",
    "* $N=1,000,000$: 3.1552\n",
    "* $N=100,000$: 3.14496\n",
    "* $N=1,000,000$: 3.142832\n",
    "\n",
    "with the first ten digits of $\\pi \\approx 3.1415926535$."
   ]
  },
  {
   "cell_type": "code",
   "execution_count": null,
   "metadata": {},
   "outputs": [],
   "source": []
  }
 ],
 "metadata": {
  "kernelspec": {
   "display_name": "Python 3",
   "language": "python",
   "name": "python3"
  },
  "language_info": {
   "codemirror_mode": {
    "name": "ipython",
    "version": 3
   },
   "file_extension": ".py",
   "mimetype": "text/x-python",
   "name": "python",
   "nbconvert_exporter": "python",
   "pygments_lexer": "ipython3",
   "version": "3.7.3"
  }
 },
 "nbformat": 4,
 "nbformat_minor": 2
}
